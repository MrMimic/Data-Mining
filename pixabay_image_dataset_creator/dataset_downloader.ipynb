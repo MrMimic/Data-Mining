{
 "cells": [
  {
   "cell_type": "markdown",
   "metadata": {},
   "source": [
    "# Dataset downloading"
   ]
  },
  {
   "cell_type": "code",
   "execution_count": null,
   "metadata": {},
   "outputs": [],
   "source": [
    "import json\n",
    "\n",
    "import requests\n",
    "\n",
    "api_url = f\"https://pixabay.com/api\"\n",
    "parameters = {\n",
    "    \"key\": \"<API_KEY>\",\n",
    "    \"q\": \"<API_QUERY>\",\n",
    "    \"image_type\": \"photo\",\n",
    "    \"category\": \"<API_CATEGORY>\",\n",
    "    \"per_page\": \"200\"\n",
    "}\n",
    "request_url = f'{api_url}?{\"&\".join([f\"{key}={value}\" for key, value in parameters.items()])}'\n",
    "\n",
    "response = requests.get(request_url)\n",
    "json_response = json.loads(response.text)\n",
    "print(f'Found {json_response[\"total\"]} pictures about {parameters[\"q\"]} on Pixabay')\n"
   ]
  },
  {
   "cell_type": "code",
   "execution_count": null,
   "metadata": {},
   "outputs": [],
   "source": [
    "import io\n",
    "import os\n",
    "from time import sleep, time\n",
    "\n",
    "from PIL import Image\n",
    "from tqdm import tqdm\n",
    "\n",
    "dataset_path = os.path.join(os.getcwd(), \"dataset\", parameters[\"q\"])\n",
    "if not os.path.isdir(dataset_path):\n",
    "    os.mkdir(dataset_path)\n",
    "\n",
    "number_of_pages = int(json_response[\"total\"] / int(parameters[\"per_page\"])) + 1\n",
    "\n",
    "# For each result page\n",
    "for page in range(1, number_of_pages + 1):\n",
    "    parameters[\"page\"] = page\n",
    "    request_url = f'{api_url}?{\"&\".join([f\"{key}={value}\" for key, value in parameters.items()])}'\n",
    "    response = requests.get(request_url)\n",
    "    json_response = json.loads(response.text)\n",
    "    # For each image from that page\n",
    "    for result in tqdm(json_response[\"hits\"],\n",
    "                       desc=f\"Page {page}/{number_of_pages}\",\n",
    "                       total=int(parameters[\"per_page\"])):\n",
    "        if not os.path.isfile(os.path.join(dataset_path, f'{parameters[\"q\"]}-{result[\"id\"]}.jpg')):\n",
    "            start = time()\n",
    "            # Download the image\n",
    "            image_url = result[\"largeImageURL\"]\n",
    "            response = requests.get(image_url,\n",
    "                                    headers={\"User-Agent\": \"Chrome\"})\n",
    "            # Resize and save the image\n",
    "            stream = io.BytesIO(response.content)\n",
    "            raw_image = Image.open(stream)\n",
    "            try:\n",
    "                raw_image.resize((800, 600)).save(os.path.join(dataset_path, f'{parameters[\"q\"]}-{result[\"id\"]}.jpg'))\n",
    "            except OSError:\n",
    "                continue\n",
    "            # Only wait if the process took less than 0.66 seconds (100 calls per minute)\n",
    "            end = time()\n",
    "            elapsed = end - start\n",
    "            if elapsed < 0.66:\n",
    "                sleep(0.66 - elapsed)\n"
   ]
  },
  {
   "cell_type": "markdown",
   "metadata": {},
   "source": [
    "# Model training"
   ]
  },
  {
   "cell_type": "code",
   "execution_count": null,
   "metadata": {},
   "outputs": [],
   "source": []
  }
 ],
 "metadata": {
  "interpreter": {
   "hash": "422d824f2c5cf6f5100b762bab04d79925ed7d6237b41a8226c89f6d0b5224ea"
  },
  "kernelspec": {
   "display_name": "Python 3.8.5 64-bit ('.venv': venv)",
   "language": "python",
   "name": "python3"
  },
  "language_info": {
   "codemirror_mode": {
    "name": "ipython",
    "version": 3
   },
   "file_extension": ".py",
   "mimetype": "text/x-python",
   "name": "python",
   "nbconvert_exporter": "python",
   "pygments_lexer": "ipython3",
   "version": "3.8.5"
  },
  "orig_nbformat": 4
 },
 "nbformat": 4,
 "nbformat_minor": 2
}
